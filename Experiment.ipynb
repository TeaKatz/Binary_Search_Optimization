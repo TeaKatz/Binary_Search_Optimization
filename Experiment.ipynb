{
 "cells": [
  {
   "cell_type": "markdown",
   "metadata": {},
   "source": [
    "### Load dataset"
   ]
  },
  {
   "cell_type": "code",
   "execution_count": 1,
   "metadata": {},
   "outputs": [],
   "source": [
    "import wandb\n",
    "import pandas as pd\n",
    "import numpy as np\n",
    "import matplotlib.pyplot as plt"
   ]
  },
  {
   "cell_type": "code",
   "execution_count": 2,
   "metadata": {},
   "outputs": [
    {
     "data": {
      "text/html": [
       "\n",
       "                Logging results to <a href=\"https://wandb.com\" target=\"_blank\">Weights & Biases</a> <a href=\"https://docs.wandb.com/integrations/jupyter.html\" target=\"_blank\">(Documentation)</a>.<br/>\n",
       "                Project page: <a href=\"https://app.wandb.ai/panuthep/binary_search_optimization\" target=\"_blank\">https://app.wandb.ai/panuthep/binary_search_optimization</a><br/>\n",
       "                Run page: <a href=\"https://app.wandb.ai/panuthep/binary_search_optimization/runs/thyve35h\" target=\"_blank\">https://app.wandb.ai/panuthep/binary_search_optimization/runs/thyve35h</a><br/>\n",
       "            "
      ],
      "text/plain": [
       "<IPython.core.display.HTML object>"
      ]
     },
     "metadata": {},
     "output_type": "display_data"
    },
    {
     "data": {
      "text/plain": [
       "W&B Run: https://app.wandb.ai/panuthep/binary_search_optimization/runs/thyve35h"
      ]
     },
     "execution_count": 2,
     "metadata": {},
     "output_type": "execute_result"
    }
   ],
   "source": [
    "wandb.init(project=\"binary_search_optimization\", name=\"verysmall_unbalance\")"
   ]
  },
  {
   "cell_type": "code",
   "execution_count": 3,
   "metadata": {},
   "outputs": [],
   "source": [
    "DATASET_DIRS = \"./Datasets/dataset_verysmall.pkl\"\n",
    "MAX_MONSTER_NUM = 1000\n",
    "MONSTER_HP_COLUMNS = [\"monster_hp_\" + str(num) for num in range(1, MAX_MONSTER_NUM + 1)]\n",
    "FEATURES = [\"focus_damage\", \"aoe_damage\", *MONSTER_HP_COLUMNS]\n",
    "TARGET = [\"attack_num\"]"
   ]
  },
  {
   "cell_type": "code",
   "execution_count": 4,
   "metadata": {},
   "outputs": [],
   "source": [
    "dataset = pd.read_pickle(DATASET_DIRS)"
   ]
  },
  {
   "cell_type": "code",
   "execution_count": 5,
   "metadata": {},
   "outputs": [
    {
     "name": "stderr",
     "output_type": "stream",
     "text": [
      "Error generating diff: Command '['git', 'diff', '--submodule=diff', 'HEAD']' timed out after 5 seconds\n",
      "/anaconda3/envs/dev/lib/python3.7/site-packages/plotly/matplotlylib/mpltools.py:368: MatplotlibDeprecationWarning:\n",
      "\n",
      "\n",
      "The is_frame_like function was deprecated in Matplotlib 3.1 and will be removed in 3.3.\n",
      "\n"
     ]
    }
   ],
   "source": [
    "for col in [\"focus_damage\", \"aoe_damage\", \"attack_num\"]:\n",
    "    plt.hist(dataset[col])\n",
    "    wandb.log({col: plt})"
   ]
  },
  {
   "cell_type": "markdown",
   "metadata": {},
   "source": [
    "### Train test split"
   ]
  },
  {
   "cell_type": "code",
   "execution_count": 6,
   "metadata": {},
   "outputs": [],
   "source": [
    "from sklearn.model_selection import train_test_split"
   ]
  },
  {
   "cell_type": "code",
   "execution_count": 7,
   "metadata": {},
   "outputs": [],
   "source": [
    "train_set, test_set = train_test_split(dataset, random_state=42, shuffle=True)"
   ]
  },
  {
   "cell_type": "code",
   "execution_count": null,
   "metadata": {},
   "outputs": [],
   "source": [
    "bins = np.linspace(dataset[TARGET].to_numpy().min(), dataset[TARGET].to_numpy().max(), 100, dtype=int)\n",
    "Y_bin = np.digitize(dataset[TARGET].to_numpy(), bins)\n",
    "\n",
    "train_set, test_set = train_test_split(dataset, random_state=42, shuffle=True, stratify=Y_bin)"
   ]
  },
  {
   "cell_type": "code",
   "execution_count": 8,
   "metadata": {},
   "outputs": [],
   "source": [
    "X_train, Y_train = train_set[FEATURES].to_numpy(), train_set[TARGET].to_numpy()\n",
    "X_test, Y_test = test_set[FEATURES].to_numpy(), test_set[TARGET].to_numpy()"
   ]
  },
  {
   "cell_type": "code",
   "execution_count": 9,
   "metadata": {},
   "outputs": [
    {
     "data": {
      "text/plain": [
       "(68250, 22750)"
      ]
     },
     "execution_count": 9,
     "metadata": {},
     "output_type": "execute_result"
    }
   ],
   "source": [
    "len(X_train), len(X_test)"
   ]
  },
  {
   "cell_type": "markdown",
   "metadata": {},
   "source": [
    "### Normalization"
   ]
  },
  {
   "cell_type": "code",
   "execution_count": 10,
   "metadata": {},
   "outputs": [],
   "source": [
    "import joblib\n",
    "from sklearn.preprocessing import MinMaxScaler"
   ]
  },
  {
   "cell_type": "code",
   "execution_count": 11,
   "metadata": {},
   "outputs": [],
   "source": [
    "X_scaler = MinMaxScaler()\n",
    "X_train_scaled = X_scaler.fit_transform(X_train.astype(np.float32))\n",
    "X_test_scaled = X_scaler.transform(X_test.astype(np.float32))\n",
    "\n",
    "Y_scaler = MinMaxScaler()\n",
    "Y_train_scaled = Y_scaler.fit_transform(Y_train.astype(np.float32))\n",
    "Y_test_scaled = Y_scaler.transform(Y_test.astype(np.float32))"
   ]
  },
  {
   "cell_type": "code",
   "execution_count": null,
   "metadata": {},
   "outputs": [],
   "source": [
    "joblib.dump(Y_scaler, \"./Save/Y_scaler.pkl\")\n",
    "joblib.dump(X_scaler, \"./Save/X_scaler.pkl\")"
   ]
  },
  {
   "cell_type": "markdown",
   "metadata": {},
   "source": [
    "### Model"
   ]
  },
  {
   "cell_type": "code",
   "execution_count": 12,
   "metadata": {},
   "outputs": [],
   "source": [
    "import tensorflow as tf\n",
    "import matplotlib.pyplot as plt\n",
    "from tensorflow.keras import Model\n",
    "from tensorflow.keras.models import Sequential\n",
    "from tensorflow.keras.layers import Dense, LeakyReLU\n",
    "from tensorflow.keras.optimizers import SGD, Adam\n",
    "from tensorflow.keras.losses import MAE\n",
    "from utilities import LearningRateFinder"
   ]
  },
  {
   "cell_type": "code",
   "execution_count": 13,
   "metadata": {},
   "outputs": [
    {
     "name": "stderr",
     "output_type": "stream",
     "text": [
      "Error generating diff: Command '['git', 'diff', '--submodule=diff', 'HEAD']' timed out after 5 seconds\n"
     ]
    }
   ],
   "source": [
    "wandb.config.network_depth = 1\n",
    "wandb.config.network_width = 16\n",
    "wandb.config.activation = \"LeakyReLU\"\n",
    "wandb.config.optimizer = \"Adam\"\n",
    "wandb.config.loss = \"MAE\"\n",
    "wandb.config.epochs = 100\n",
    "wandb.config.batch_size = 32\n",
    "wandb.config.validation_split = 0.2"
   ]
  },
  {
   "cell_type": "code",
   "execution_count": 14,
   "metadata": {},
   "outputs": [],
   "source": [
    "def history_plot(history):\n",
    "    x = list(range(len(history.history[\"loss\"])))\n",
    "    loss = history.history[\"loss\"]\n",
    "    val_loss = history.history[\"val_loss\"]\n",
    "    plt.subplot(2, 1, 1)\n",
    "    plt.title(\"loss\")\n",
    "    plt.plot(x, loss)\n",
    "    plt.subplot(2, 1, 2)\n",
    "    plt.title(\"val_loss\")\n",
    "    plt.plot(x, val_loss)\n",
    "    \n",
    "def losses_plot(Y_true, Y_pred):\n",
    "    losses = MAE(Y_true, Y_pred)\n",
    "    plt.scatter(Y_pred, losses)\n",
    "    plt.show()\n",
    "    \n",
    "def prediction_distribution(pred):\n",
    "    plt.hist(pred, bins=100)\n",
    "    plt.show()"
   ]
  },
  {
   "cell_type": "code",
   "execution_count": 15,
   "metadata": {},
   "outputs": [],
   "source": [
    "input_shape = [X_train.shape[1]]"
   ]
  },
  {
   "cell_type": "code",
   "execution_count": 19,
   "metadata": {},
   "outputs": [],
   "source": [
    "class SequenceDense(Model):\n",
    "    def __init__(self):\n",
    "        super().__init__()\n",
    "        self.hidden_layers = []\n",
    "        for _ in range(wandb.config.network_depth):\n",
    "            self.hidden_layers.append(Dense(wandb.config.network_width, activation=LeakyReLU()))\n",
    "        self.output_layer = Dense(1, activation=\"relu\")\n",
    "        \n",
    "    def call(self, inputs):\n",
    "        output = inputs\n",
    "        for layer in self.hidden_layers:\n",
    "            output = layer(output)\n",
    "        output = self.output_layer(output)\n",
    "        \n",
    "        return output"
   ]
  },
  {
   "cell_type": "code",
   "execution_count": 27,
   "metadata": {},
   "outputs": [],
   "source": [
    "model_name = \"model_{}_{}\".format(wandb.config.network_depth, wandb.config.network_width)\n",
    "\n",
    "# Save or load initial model, so every time, we start with the same init model\n",
    "model = SequenceDense()\n",
    "model.compile(optimizer=Adam(learning_rate=0.0001), loss=\"mae\")\n",
    "# model.save_weights(\"./Save/Model_initial/\" + model_name)\n",
    "model.load_weights(\"./Save/Model_initial/\" + model_name)"
   ]
  },
  {
   "cell_type": "code",
   "execution_count": 28,
   "metadata": {
    "scrolled": true
   },
   "outputs": [
    {
     "name": "stdout",
     "output_type": "stream",
     "text": [
      "Train on 68250 samples\n",
      "Epoch 1/20\n",
      "68250/68250 [==============================] - 3s 46us/sample - loss: 0.0969\n",
      "Epoch 2/20\n",
      "68250/68250 [==============================] - 2s 36us/sample - loss: 0.0969\n",
      "Epoch 3/20\n",
      "68250/68250 [==============================] - 2s 35us/sample - loss: 0.0964\n",
      "Epoch 4/20\n",
      "68250/68250 [==============================] - 2s 35us/sample - loss: 0.0940\n",
      "Epoch 5/20\n",
      "68250/68250 [==============================] - 2s 35us/sample - loss: 0.0876\n",
      "Epoch 6/20\n",
      "68250/68250 [==============================] - 2s 35us/sample - loss: 0.0775\n",
      "Epoch 7/20\n",
      "68250/68250 [==============================] - 2s 34us/sample - loss: 0.0704\n",
      "Epoch 8/20\n",
      "68250/68250 [==============================] - 2s 34us/sample - loss: 0.0675\n",
      "Epoch 9/20\n",
      "68250/68250 [==============================] - 2s 34us/sample - loss: 0.0607\n",
      "Epoch 10/20\n",
      "68250/68250 [==============================] - 2s 34us/sample - loss: 0.0494\n",
      "Epoch 11/20\n",
      "68250/68250 [==============================] - 2s 34us/sample - loss: 0.0454\n",
      "Epoch 12/20\n",
      "68250/68250 [==============================] - 2s 34us/sample - loss: 0.0461\n",
      "Epoch 13/20\n",
      "68250/68250 [==============================] - 2s 35us/sample - loss: 0.0545\n",
      "Epoch 14/20\n",
      "68250/68250 [==============================] - 2s 34us/sample - loss: 0.0515\n",
      "Epoch 15/20\n",
      "68250/68250 [==============================] - 2s 35us/sample - loss: 0.0583\n",
      "Epoch 16/20\n",
      "68250/68250 [==============================] - 2s 34us/sample - loss: 0.0732\n",
      "Epoch 17/20\n",
      "68250/68250 [==============================] - 2s 34us/sample - loss: 0.0734\n",
      "Epoch 18/20\n",
      "68250/68250 [==============================] - 2s 36us/sample - loss: 0.0734\n",
      "Epoch 19/20\n",
      "68250/68250 [==============================] - 2s 34us/sample - loss: 0.0734\n",
      "Epoch 20/20\n",
      "68250/68250 [==============================] - 2s 34us/sample - loss: 0.0734\n"
     ]
    },
    {
     "data": {
      "image/png": "[encoded data removed]",
      "text/plain": [
       "<Figure size 576x432 with 2 Axes>"
      ]
     },
     "metadata": {
      "needs_background": "light"
     },
     "output_type": "display_data"
    }
   ],
   "source": [
    "lr_finder = LearningRateFinder(model)\n",
    "lr_finder.find((X_train_scaled, Y_train_scaled), start_lr=1e-10, epochs=20)\n",
    "lr_finder.plot()"
   ]
  },
  {
   "cell_type": "code",
   "execution_count": 23,
   "metadata": {},
   "outputs": [
    {
     "name": "stderr",
     "output_type": "stream",
     "text": [
      "Error generating diff: Command '['git', 'diff', '--submodule=diff', 'HEAD']' timed out after 5 seconds\n",
      "/anaconda3/envs/dev/lib/python3.7/site-packages/plotly/matplotlylib/mpltools.py:368: MatplotlibDeprecationWarning:\n",
      "\n",
      "\n",
      "The is_frame_like function was deprecated in Matplotlib 3.1 and will be removed in 3.3.\n",
      "\n"
     ]
    }
   ],
   "source": [
    "plt.plot(lr_finder.losses)\n",
    "wandb.log({\"lr_finder\": plt})"
   ]
  },
  {
   "cell_type": "code",
   "execution_count": 38,
   "metadata": {},
   "outputs": [
    {
     "data": {
      "image/png": "[encoded data removed]",
      "text/plain": [
       "<Figure size 576x432 with 2 Axes>"
      ]
     },
     "metadata": {
      "needs_background": "light"
     },
     "output_type": "display_data"
    }
   ],
   "source": [
    "lr_finder.plot(start=20000, end=30000)"
   ]
  },
  {
   "cell_type": "code",
   "execution_count": null,
   "metadata": {},
   "outputs": [],
   "source": [
    "lr_finder.lrs[200000]"
   ]
  },
  {
   "cell_type": "code",
   "execution_count": 45,
   "metadata": {
    "scrolled": true
   },
   "outputs": [
    {
     "name": "stdout",
     "output_type": "stream",
     "text": [
      "Train on 54600 samples, validate on 13650 samples\n",
      "Epoch 1/100\n",
      "54600/54600 [==============================] - 2s 42us/sample - loss: 0.0739 - val_loss: 0.0729\n",
      "Epoch 2/100\n",
      "54600/54600 [==============================] - 2s 34us/sample - loss: 0.0734 - val_loss: 0.0719\n",
      "Epoch 3/100\n",
      "54600/54600 [==============================] - 2s 36us/sample - loss: 0.0586 - val_loss: 0.0545\n",
      "Epoch 4/100\n",
      "54600/54600 [==============================] - 2s 33us/sample - loss: 0.0427 - val_loss: 0.0391\n",
      "Epoch 5/100\n",
      "54600/54600 [==============================] - 2s 33us/sample - loss: 0.0404 - val_loss: 0.0376\n",
      "Epoch 6/100\n",
      "54600/54600 [==============================] - 2s 33us/sample - loss: 0.0393 - val_loss: 0.0387\n",
      "Epoch 7/100\n",
      "54600/54600 [==============================] - 2s 33us/sample - loss: 0.0383 - val_loss: 0.0358\n",
      "Epoch 8/100\n",
      "54600/54600 [==============================] - 2s 33us/sample - loss: 0.0374 - val_loss: 0.0356\n",
      "Epoch 9/100\n",
      "54600/54600 [==============================] - 2s 32us/sample - loss: 0.0376 - val_loss: 0.0345\n",
      "Epoch 10/100\n",
      "54600/54600 [==============================] - 2s 32us/sample - loss: 0.0364 - val_loss: 0.0355\n",
      "Epoch 11/100\n",
      "54600/54600 [==============================] - 2s 32us/sample - loss: 0.0358 - val_loss: 0.0346\n",
      "Epoch 12/100\n",
      "54600/54600 [==============================] - 2s 35us/sample - loss: 0.0356 - val_loss: 0.0384\n",
      "Epoch 13/100\n",
      "54600/54600 [==============================] - 2s 33us/sample - loss: 0.0348 - val_loss: 0.0360\n",
      "Epoch 14/100\n",
      "54600/54600 [==============================] - 2s 32us/sample - loss: 0.0347 - val_loss: 0.0371\n",
      "Epoch 15/100\n",
      "54600/54600 [==============================] - 2s 32us/sample - loss: 0.0341 - val_loss: 0.0327\n",
      "Epoch 16/100\n",
      "54600/54600 [==============================] - 2s 35us/sample - loss: 0.0341 - val_loss: 0.0323\n",
      "Epoch 17/100\n",
      "54600/54600 [==============================] - 2s 33us/sample - loss: 0.0341 - val_loss: 0.0355\n",
      "Epoch 18/100\n",
      "54600/54600 [==============================] - 2s 33us/sample - loss: 0.0335 - val_loss: 0.0360\n",
      "Epoch 19/100\n",
      "54600/54600 [==============================] - 2s 34us/sample - loss: 0.0334 - val_loss: 0.0323\n",
      "Epoch 20/100\n",
      "54600/54600 [==============================] - 2s 33us/sample - loss: 0.0331 - val_loss: 0.0325\n",
      "Epoch 21/100\n",
      "54600/54600 [==============================] - 2s 34us/sample - loss: 0.0327 - val_loss: 0.0327\n",
      "Epoch 22/100\n",
      "54600/54600 [==============================] - 2s 35us/sample - loss: 0.0322 - val_loss: 0.0300\n",
      "Epoch 23/100\n",
      "54600/54600 [==============================] - 2s 34us/sample - loss: 0.0322 - val_loss: 0.0320\n",
      "Epoch 24/100\n",
      "54600/54600 [==============================] - 2s 34us/sample - loss: 0.0322 - val_loss: 0.0304\n",
      "Epoch 25/100\n",
      "54600/54600 [==============================] - 2s 33us/sample - loss: 0.0318 - val_loss: 0.0338\n",
      "Epoch 26/100\n",
      "54600/54600 [==============================] - 2s 33us/sample - loss: 0.0317 - val_loss: 0.0310\n",
      "Epoch 27/100\n",
      "54600/54600 [==============================] - 2s 34us/sample - loss: 0.0316 - val_loss: 0.0298\n",
      "Epoch 28/100\n",
      "54600/54600 [==============================] - 2s 35us/sample - loss: 0.0311 - val_loss: 0.0323\n",
      "Epoch 29/100\n",
      "54600/54600 [==============================] - 2s 34us/sample - loss: 0.0310 - val_loss: 0.0315\n",
      "Epoch 30/100\n",
      "54600/54600 [==============================] - 2s 33us/sample - loss: 0.0310 - val_loss: 0.0295\n",
      "Epoch 31/100\n",
      "54600/54600 [==============================] - 2s 34us/sample - loss: 0.0304 - val_loss: 0.0352\n",
      "Epoch 32/100\n",
      "54600/54600 [==============================] - 2s 34us/sample - loss: 0.0301 - val_loss: 0.0307\n",
      "Epoch 33/100\n",
      "54600/54600 [==============================] - 2s 34us/sample - loss: 0.0300 - val_loss: 0.0316\n",
      "Epoch 34/100\n",
      "54600/54600 [==============================] - 2s 34us/sample - loss: 0.0300 - val_loss: 0.0296\n",
      "Epoch 35/100\n",
      "54600/54600 [==============================] - 2s 34us/sample - loss: 0.0298 - val_loss: 0.0285\n",
      "Epoch 36/100\n",
      "54600/54600 [==============================] - 2s 33us/sample - loss: 0.0295 - val_loss: 0.0301\n",
      "Epoch 37/100\n",
      "54600/54600 [==============================] - 2s 34us/sample - loss: 0.0293 - val_loss: 0.0284\n",
      "Epoch 38/100\n",
      "54600/54600 [==============================] - 2s 33us/sample - loss: 0.0293 - val_loss: 0.0288\n",
      "Epoch 39/100\n",
      "54600/54600 [==============================] - 2s 33us/sample - loss: 0.0290 - val_loss: 0.0276\n",
      "Epoch 40/100\n",
      "54600/54600 [==============================] - 2s 34us/sample - loss: 0.0278 - val_loss: 0.0257\n",
      "Epoch 41/100\n",
      "54600/54600 [==============================] - 2s 35us/sample - loss: 0.0263 - val_loss: 0.0256\n",
      "Epoch 42/100\n",
      "54600/54600 [==============================] - 2s 33us/sample - loss: 0.0233 - val_loss: 0.0216\n",
      "Epoch 43/100\n",
      "54600/54600 [==============================] - 2s 34us/sample - loss: 0.0208 - val_loss: 0.0221\n",
      "Epoch 44/100\n",
      "54600/54600 [==============================] - 2s 34us/sample - loss: 0.0197 - val_loss: 0.0179\n",
      "Epoch 45/100\n",
      "54600/54600 [==============================] - 2s 35us/sample - loss: 0.0195 - val_loss: 0.0190\n",
      "Epoch 46/100\n",
      "54600/54600 [==============================] - 2s 34us/sample - loss: 0.0200 - val_loss: 0.0200\n",
      "Epoch 47/100\n",
      "54600/54600 [==============================] - 2s 33us/sample - loss: 0.0190 - val_loss: 0.0230\n",
      "Epoch 48/100\n",
      "54600/54600 [==============================] - 2s 34us/sample - loss: 0.0188 - val_loss: 0.0197\n",
      "Epoch 49/100\n",
      "54600/54600 [==============================] - 2s 33us/sample - loss: 0.0193 - val_loss: 0.0200\n",
      "Epoch 50/100\n",
      "54600/54600 [==============================] - 2s 33us/sample - loss: 0.0192 - val_loss: 0.0264\n",
      "Epoch 51/100\n",
      "54600/54600 [==============================] - 2s 38us/sample - loss: 0.0187 - val_loss: 0.0196\n",
      "Epoch 52/100\n",
      "54600/54600 [==============================] - 2s 34us/sample - loss: 0.0188 - val_loss: 0.0177\n",
      "Epoch 53/100\n",
      "54600/54600 [==============================] - 2s 33us/sample - loss: 0.0187 - val_loss: 0.0237\n",
      "Epoch 54/100\n",
      "54600/54600 [==============================] - 2s 34us/sample - loss: 0.0187 - val_loss: 0.0173\n",
      "Epoch 55/100\n",
      "54600/54600 [==============================] - 2s 35us/sample - loss: 0.0185 - val_loss: 0.0165\n",
      "Epoch 56/100\n",
      "54600/54600 [==============================] - 2s 40us/sample - loss: 0.0189 - val_loss: 0.0191\n",
      "Epoch 57/100\n",
      "54600/54600 [==============================] - 2s 40us/sample - loss: 0.0187 - val_loss: 0.0165\n",
      "Epoch 58/100\n",
      "54600/54600 [==============================] - 2s 41us/sample - loss: 0.0182 - val_loss: 0.0176\n",
      "Epoch 59/100\n",
      "54600/54600 [==============================] - 2s 37us/sample - loss: 0.0183 - val_loss: 0.0194\n",
      "Epoch 60/100\n",
      "54600/54600 [==============================] - 2s 39us/sample - loss: 0.0185 - val_loss: 0.0173\n",
      "Epoch 61/100\n",
      "54600/54600 [==============================] - 2s 39us/sample - loss: 0.0182 - val_loss: 0.0188\n",
      "Epoch 62/100\n",
      "54600/54600 [==============================] - 2s 40us/sample - loss: 0.0176 - val_loss: 0.0165\n",
      "Epoch 63/100\n",
      "54600/54600 [==============================] - 2s 37us/sample - loss: 0.0185 - val_loss: 0.0167\n",
      "Epoch 64/100\n",
      "54600/54600 [==============================] - 2s 39us/sample - loss: 0.0179 - val_loss: 0.0199\n",
      "Epoch 65/100\n",
      "54600/54600 [==============================] - 2s 42us/sample - loss: 0.0181 - val_loss: 0.0160\n",
      "Epoch 66/100\n",
      "54600/54600 [==============================] - 3s 47us/sample - loss: 0.0176 - val_loss: 0.0162\n",
      "Epoch 67/100\n",
      "54600/54600 [==============================] - 2s 45us/sample - loss: 0.0180 - val_loss: 0.0216\n",
      "Epoch 68/100\n",
      "54600/54600 [==============================] - 3s 46us/sample - loss: 0.0179 - val_loss: 0.0153\n",
      "Epoch 69/100\n",
      "54600/54600 [==============================] - 3s 47us/sample - loss: 0.0179 - val_loss: 0.0179\n",
      "Epoch 70/100\n",
      "54600/54600 [==============================] - 2s 43us/sample - loss: 0.0177 - val_loss: 0.0165\n",
      "Epoch 71/100\n",
      "54600/54600 [==============================] - 2s 38us/sample - loss: 0.0176 - val_loss: 0.0165\n",
      "Epoch 72/100\n",
      "54600/54600 [==============================] - 2s 36us/sample - loss: 0.0177 - val_loss: 0.0174\n",
      "Epoch 73/100\n",
      "54600/54600 [==============================] - 2s 39us/sample - loss: 0.0175 - val_loss: 0.0176\n",
      "Epoch 74/100\n",
      "54600/54600 [==============================] - 2s 33us/sample - loss: 0.0177 - val_loss: 0.0157\n",
      "Epoch 75/100\n",
      "54600/54600 [==============================] - 2s 32us/sample - loss: 0.0176 - val_loss: 0.0175\n",
      "Epoch 76/100\n",
      "54600/54600 [==============================] - 2s 34us/sample - loss: 0.0178 - val_loss: 0.0158\n",
      "Epoch 77/100\n",
      "54600/54600 [==============================] - 2s 35us/sample - loss: 0.0179 - val_loss: 0.0165\n",
      "Epoch 78/100\n",
      "54600/54600 [==============================] - 2s 33us/sample - loss: 0.0177 - val_loss: 0.0211\n",
      "Epoch 79/100\n",
      "54600/54600 [==============================] - 2s 32us/sample - loss: 0.0173 - val_loss: 0.0156\n",
      "Epoch 80/100\n",
      "54600/54600 [==============================] - 2s 34us/sample - loss: 0.0171 - val_loss: 0.0162\n",
      "Epoch 81/100\n",
      "54600/54600 [==============================] - 2s 32us/sample - loss: 0.0171 - val_loss: 0.0177\n",
      "Epoch 82/100\n",
      "54600/54600 [==============================] - 2s 32us/sample - loss: 0.0172 - val_loss: 0.0194\n",
      "Epoch 83/100\n",
      "54600/54600 [==============================] - 2s 35us/sample - loss: 0.0179 - val_loss: 0.0218\n",
      "Epoch 84/100\n",
      "54600/54600 [==============================] - 2s 35us/sample - loss: 0.0173 - val_loss: 0.0171\n",
      "Epoch 85/100\n",
      "54600/54600 [==============================] - 2s 36us/sample - loss: 0.0175 - val_loss: 0.0143\n",
      "Epoch 86/100\n",
      "54600/54600 [==============================] - 2s 35us/sample - loss: 0.0174 - val_loss: 0.0147\n",
      "Epoch 87/100\n",
      "54600/54600 [==============================] - 2s 34us/sample - loss: 0.0169 - val_loss: 0.0182\n",
      "Epoch 88/100\n",
      "54600/54600 [==============================] - 2s 32us/sample - loss: 0.0170 - val_loss: 0.0202\n",
      "Epoch 89/100\n",
      "54600/54600 [==============================] - 2s 33us/sample - loss: 0.0172 - val_loss: 0.0157\n",
      "Epoch 90/100\n",
      "54600/54600 [==============================] - 2s 34us/sample - loss: 0.0174 - val_loss: 0.0181\n",
      "Epoch 91/100\n",
      "54600/54600 [==============================] - 2s 33us/sample - loss: 0.0172 - val_loss: 0.0156\n",
      "Epoch 92/100\n",
      "54600/54600 [==============================] - 2s 32us/sample - loss: 0.0174 - val_loss: 0.0190\n",
      "Epoch 93/100\n",
      "54600/54600 [==============================] - 2s 33us/sample - loss: 0.0168 - val_loss: 0.0184\n",
      "Epoch 94/100\n",
      "54600/54600 [==============================] - 2s 32us/sample - loss: 0.0172 - val_loss: 0.0239\n",
      "Epoch 95/100\n",
      "54600/54600 [==============================] - 2s 32us/sample - loss: 0.0169 - val_loss: 0.0151\n",
      "Epoch 96/100\n",
      "54600/54600 [==============================] - 2s 33us/sample - loss: 0.0170 - val_loss: 0.0156\n",
      "Epoch 97/100\n",
      "54600/54600 [==============================] - 2s 32us/sample - loss: 0.0167 - val_loss: 0.0166\n",
      "Epoch 98/100\n",
      "54600/54600 [==============================] - 2s 32us/sample - loss: 0.0170 - val_loss: 0.0144\n",
      "Epoch 99/100\n",
      "54600/54600 [==============================] - 2s 33us/sample - loss: 0.0167 - val_loss: 0.0220\n",
      "Epoch 100/100\n",
      "54600/54600 [==============================] - 2s 32us/sample - loss: 0.0174 - val_loss: 0.0196\n"
     ]
    },
    {
     "data": {
      "image/png": "[encoded data removed]",
      "text/plain": [
       "<Figure size 432x288 with 2 Axes>"
      ]
     },
     "metadata": {
      "needs_background": "light"
     },
     "output_type": "display_data"
    }
   ],
   "source": [
    "model = SequenceDense()\n",
    "model.load_weights(\"./Save/Model_initial/\" + model_name)\n",
    "\n",
    "model.compile(optimizer=Adam(learning_rate=lr_finder.lrs[24000]), loss=\"mae\")\n",
    "history = model.fit(X_train_scaled, Y_train_scaled, epochs=100, batch_size=32, validation_split=0.2, verbose=1)\n",
    "\n",
    "history_plot(history)"
   ]
  },
  {
   "cell_type": "code",
   "execution_count": 44,
   "metadata": {},
   "outputs": [
    {
     "name": "stderr",
     "output_type": "stream",
     "text": [
      "Error generating diff: Command '['git', 'diff', '--submodule=diff', 'HEAD']' timed out after 5 seconds\n",
      "/anaconda3/envs/dev/lib/python3.7/site-packages/plotly/matplotlylib/mpltools.py:368: MatplotlibDeprecationWarning:\n",
      "\n",
      "\n",
      "The is_frame_like function was deprecated in Matplotlib 3.1 and will be removed in 3.3.\n",
      "\n"
     ]
    }
   ],
   "source": [
    "x = list(range(len(history.history[\"loss\"])))\n",
    "loss = history.history[\"loss\"]\n",
    "val_loss = history.history[\"val_loss\"]\n",
    "plt.subplot(2, 1, 1)\n",
    "plt.title(\"loss\")\n",
    "plt.plot(x, loss)\n",
    "plt.subplot(2, 1, 2)\n",
    "plt.title(\"val_loss\")\n",
    "plt.plot(x, val_loss)\n",
    "wandb.log({\"model\": plt})"
   ]
  },
  {
   "cell_type": "code",
   "execution_count": 46,
   "metadata": {},
   "outputs": [
    {
     "name": "stdout",
     "output_type": "stream",
     "text": [
      "22750/1 - 0s - loss: 0.0167\n"
     ]
    },
    {
     "data": {
      "text/plain": [
       "0.019715340683093437"
      ]
     },
     "execution_count": 46,
     "metadata": {},
     "output_type": "execute_result"
    }
   ],
   "source": [
    "model.evaluate(X_test_scaled, Y_test_scaled, verbose=2)"
   ]
  },
  {
   "cell_type": "code",
   "execution_count": 47,
   "metadata": {},
   "outputs": [
    {
     "data": {
      "image/png": "[encoded data removed]",
      "text/plain": [
       "<Figure size 432x288 with 1 Axes>"
      ]
     },
     "metadata": {
      "needs_background": "light"
     },
     "output_type": "display_data"
    }
   ],
   "source": [
    "# Inbalance dataset is highly possible due to the following prediction distriburion.\n",
    "pred = model.predict(X_train_scaled)\n",
    "prediction_distribution(pred)"
   ]
  },
  {
   "cell_type": "code",
   "execution_count": null,
   "metadata": {},
   "outputs": [],
   "source": [
    "model.save_weights(\"./Save/Model_without_decay/model_1024\")"
   ]
  },
  {
   "cell_type": "code",
   "execution_count": null,
   "metadata": {},
   "outputs": [],
   "source": [
    "model = SequenceDense()\n",
    "model.load_weights(\"./Save/Model_without_decay/model_1024\")"
   ]
  },
  {
   "cell_type": "code",
   "execution_count": 48,
   "metadata": {},
   "outputs": [
    {
     "data": {
      "image/png": "[encoded data removed]",
      "text/plain": [
       "<Figure size 432x288 with 1 Axes>"
      ]
     },
     "metadata": {
      "needs_background": "light"
     },
     "output_type": "display_data"
    }
   ],
   "source": [
    "losses_plot(Y_train_scaled, pred)"
   ]
  },
  {
   "cell_type": "code",
   "execution_count": null,
   "metadata": {},
   "outputs": [],
   "source": []
  }
 ],
 "metadata": {
  "kernelspec": {
   "display_name": "Python 3",
   "language": "python",
   "name": "python3"
  },
  "language_info": {
   "codemirror_mode": {
    "name": "ipython",
    "version": 3
   },
   "file_extension": ".py",
   "mimetype": "text/x-python",
   "name": "python",
   "nbconvert_exporter": "python",
   "pygments_lexer": "ipython3",
   "version": "3.7.4"
  }
 },
 "nbformat": 4,
 "nbformat_minor": 4
}
