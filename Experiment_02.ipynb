{
 "cells": [
  {
   "cell_type": "markdown",
   "metadata": {},
   "source": [
    "### Load dataset"
   ]
  },
  {
   "cell_type": "code",
   "execution_count": 1,
   "metadata": {},
   "outputs": [],
   "source": [
    "import os\n",
    "import wandb\n",
    "import pandas as pd\n",
    "import numpy as np\n",
    "import matplotlib.pyplot as plt\n",
    "from os.path import join, exists\n",
    "from os import makedirs"
   ]
  },
  {
   "cell_type": "code",
   "execution_count": 2,
   "metadata": {},
   "outputs": [
    {
     "data": {
      "text/html": [
       "\n",
       "                Logging results to <a href=\"https://wandb.com\" target=\"_blank\">Weights & Biases</a> <a href=\"https://docs.wandb.com/integrations/jupyter.html\" target=\"_blank\">(Documentation)</a>.<br/>\n",
       "                Project page: <a href=\"https://app.wandb.ai/panuthep/binary_search_optimization\" target=\"_blank\">https://app.wandb.ai/panuthep/binary_search_optimization</a><br/>\n",
       "                Run page: <a href=\"https://app.wandb.ai/panuthep/binary_search_optimization/runs/xkb88ii9\" target=\"_blank\">https://app.wandb.ai/panuthep/binary_search_optimization/runs/xkb88ii9</a><br/>\n",
       "            "
      ],
      "text/plain": [
       "<IPython.core.display.HTML object>"
      ]
     },
     "metadata": {},
     "output_type": "display_data"
    },
    {
     "data": {
      "text/plain": [
       "W&B Run: https://app.wandb.ai/panuthep/binary_search_optimization/runs/xkb88ii9"
      ]
     },
     "execution_count": 2,
     "metadata": {},
     "output_type": "execute_result"
    }
   ],
   "source": [
    "run_name = \"verysmall_balanced\"\n",
    "wandb.init(project=\"binary_search_optimization\", name=run_name)"
   ]
  },
  {
   "cell_type": "code",
   "execution_count": 3,
   "metadata": {},
   "outputs": [],
   "source": [
    "DATASET_DIR = \"./datasets/dataset_verysmall_balanced.pkl\"\n",
    "WEIGHTS_DIR = join(\"./save_weights\", run_name)\n",
    "if not exists(WEIGHTS_DIR):\n",
    "    makedirs(WEIGHTS_DIR)\n",
    "\n",
    "MAX_MONSTER_NUM = 1000\n",
    "MONSTER_HPS_COL = [\"monster_hp_\" + str(num) for num in range(1, MAX_MONSTER_NUM + 1)]\n",
    "FEATURES_COL = [\"focus_damage\", \"aoe_damage\", *MONSTER_HPS_COL]\n",
    "TARGET_COL = [\"attack_num\"]"
   ]
  },
  {
   "cell_type": "code",
   "execution_count": 4,
   "metadata": {},
   "outputs": [
    {
     "name": "stderr",
     "output_type": "stream",
     "text": [
      "/anaconda3/envs/dev/lib/python3.7/site-packages/plotly/matplotlylib/mpltools.py:368: MatplotlibDeprecationWarning:\n",
      "\n",
      "\n",
      "The is_frame_like function was deprecated in Matplotlib 3.1 and will be removed in 3.3.\n",
      "\n"
     ]
    }
   ],
   "source": [
    "dataset = pd.read_pickle(DATASET_DIR)\n",
    "\n",
    "# Log data distribution\n",
    "for col in [\"focus_damage\", \"aoe_damage\", \"attack_num\"]:\n",
    "    plt.hist(dataset[col])\n",
    "    wandb.log({col: plt})"
   ]
  },
  {
   "cell_type": "markdown",
   "metadata": {},
   "source": [
    "### Train test split"
   ]
  },
  {
   "cell_type": "code",
   "execution_count": 5,
   "metadata": {},
   "outputs": [],
   "source": [
    "from sklearn.model_selection import train_test_split"
   ]
  },
  {
   "cell_type": "code",
   "execution_count": 6,
   "metadata": {},
   "outputs": [],
   "source": [
    "bins = np.linspace(dataset[TARGET_COL].to_numpy().min(), dataset[TARGET_COL].to_numpy().max(), 100, dtype=int)\n",
    "Y_bin = np.digitize(dataset[TARGET_COL].to_numpy(), bins)\n",
    "\n",
    "try:\n",
    "    train_set, test_set = train_test_split(dataset, random_state=42, shuffle=True, stratify=Y_bin)\n",
    "except:\n",
    "    train_set, test_set = train_test_split(dataset, random_state=42, shuffle=True)\n",
    "\n",
    "X_train, Y_train = train_set[FEATURES_COL].to_numpy(), train_set[TARGET_COL].to_numpy()\n",
    "X_test, Y_test = test_set[FEATURES_COL].to_numpy(), test_set[TARGET_COL].to_numpy()"
   ]
  },
  {
   "cell_type": "code",
   "execution_count": 7,
   "metadata": {},
   "outputs": [
    {
     "data": {
      "text/plain": [
       "(68250, 22750)"
      ]
     },
     "execution_count": 7,
     "metadata": {},
     "output_type": "execute_result"
    }
   ],
   "source": [
    "len(X_train), len(X_test)"
   ]
  },
  {
   "cell_type": "markdown",
   "metadata": {},
   "source": [
    "### Normalization"
   ]
  },
  {
   "cell_type": "code",
   "execution_count": 8,
   "metadata": {},
   "outputs": [],
   "source": [
    "import joblib\n",
    "from sklearn.preprocessing import MinMaxScaler"
   ]
  },
  {
   "cell_type": "code",
   "execution_count": 9,
   "metadata": {},
   "outputs": [],
   "source": [
    "X_scaler = MinMaxScaler() if not exists(join(WEIGHTS_DIR, \"X_scaler.pkl\")) else joblib.load(join(WEIGHTS_DIR, \"X_scaler.pkl\"))\n",
    "X_train_scaled = X_scaler.fit_transform(X_train.astype(np.float32))\n",
    "X_test_scaled = X_scaler.transform(X_test.astype(np.float32))\n",
    "\n",
    "Y_scaler = MinMaxScaler() if not exists(join(WEIGHTS_DIR, \"Y_scaler.pkl\")) else joblib.load(join(WEIGHTS_DIR, \"Y_scaler.pkl\"))\n",
    "Y_train_scaled = Y_scaler.fit_transform(Y_train.astype(np.float32))\n",
    "Y_test_scaled = Y_scaler.transform(Y_test.astype(np.float32))"
   ]
  },
  {
   "cell_type": "code",
   "execution_count": 10,
   "metadata": {},
   "outputs": [
    {
     "data": {
      "text/plain": [
       "['./save_weights/verysmall_balanced/Y_scaler.pkl']"
      ]
     },
     "execution_count": 10,
     "metadata": {},
     "output_type": "execute_result"
    }
   ],
   "source": [
    "# Save parameters for scalers\n",
    "joblib.dump(X_scaler, join(WEIGHTS_DIR, \"X_scaler.pkl\"))\n",
    "joblib.dump(Y_scaler, join(WEIGHTS_DIR, \"Y_scaler.pkl\"))"
   ]
  },
  {
   "cell_type": "markdown",
   "metadata": {},
   "source": [
    "### Model"
   ]
  },
  {
   "cell_type": "code",
   "execution_count": 11,
   "metadata": {},
   "outputs": [],
   "source": [
    "import tensorflow as tf\n",
    "import matplotlib.pyplot as plt\n",
    "from tensorflow.keras import Model\n",
    "from tensorflow.keras.models import Sequential\n",
    "from tensorflow.keras.layers import Dense, LeakyReLU\n",
    "from tensorflow.keras.optimizers import SGD, Adam\n",
    "from tensorflow.keras.losses import MAE\n",
    "from utilities import LearningRateFinder"
   ]
  },
  {
   "cell_type": "code",
   "execution_count": 12,
   "metadata": {},
   "outputs": [],
   "source": [
    "wandb.config.network_depth = 1\n",
    "wandb.config.network_width = 16\n",
    "wandb.config.activation = \"LeakyReLU\"\n",
    "wandb.config.optimizer = \"Adam\"\n",
    "wandb.config.loss = \"MAE\"\n",
    "wandb.config.epochs = 160\n",
    "wandb.config.batch_size = 32\n",
    "wandb.config.validation_split = 0.2"
   ]
  },
  {
   "cell_type": "code",
   "execution_count": 13,
   "metadata": {},
   "outputs": [],
   "source": [
    "class SequenceDense(Model):\n",
    "    def __init__(self):\n",
    "        super().__init__()\n",
    "        self.hidden_layers = []\n",
    "        for _ in range(wandb.config.network_depth):\n",
    "            self.hidden_layers.append(Dense(wandb.config.network_width, activation=LeakyReLU()))\n",
    "        self.output_layer = Dense(1, activation=\"relu\")\n",
    "        \n",
    "    def call(self, inputs):\n",
    "        output = inputs\n",
    "        for layer in self.hidden_layers:\n",
    "            output = layer(output)\n",
    "        output = self.output_layer(output)\n",
    "        \n",
    "        return output"
   ]
  },
  {
   "cell_type": "code",
   "execution_count": 14,
   "metadata": {},
   "outputs": [
    {
     "name": "stdout",
     "output_type": "stream",
     "text": [
      "Train on 68250 samples\n",
      "Epoch 1/20\n",
      "68250/68250 [==============================] - 3s 39us/sample - loss: 0.4318\n",
      "Epoch 2/20\n",
      "68250/68250 [==============================] - 2s 34us/sample - loss: 0.4318\n",
      "Epoch 3/20\n",
      "68250/68250 [==============================] - 2s 32us/sample - loss: 0.4314\n",
      "Epoch 4/20\n",
      "68250/68250 [==============================] - 2s 33us/sample - loss: 0.4293\n",
      "Epoch 5/20\n",
      "68250/68250 [==============================] - 2s 32us/sample - loss: 0.4215\n",
      "Epoch 6/20\n",
      "68250/68250 [==============================] - 2s 32us/sample - loss: 0.3736\n",
      "Epoch 7/20\n",
      "68250/68250 [==============================] - 2s 33us/sample - loss: 0.2038\n",
      "Epoch 8/20\n",
      "68250/68250 [==============================] - 2s 33us/sample - loss: 0.1814\n",
      "Epoch 9/20\n",
      "68250/68250 [==============================] - 2s 32us/sample - loss: 0.1718\n",
      "Epoch 10/20\n",
      "68250/68250 [==============================] - 2s 32us/sample - loss: 0.1569\n",
      "Epoch 11/20\n",
      "68250/68250 [==============================] - 2s 33us/sample - loss: 0.1339\n",
      "Epoch 12/20\n",
      "68250/68250 [==============================] - 2s 32us/sample - loss: 0.1256\n",
      "Epoch 13/20\n",
      "68250/68250 [==============================] - 2s 32us/sample - loss: 0.1278\n",
      "Epoch 14/20\n",
      "68250/68250 [==============================] - 2s 32us/sample - loss: 0.1254\n",
      "Epoch 15/20\n",
      "68250/68250 [==============================] - 2s 33us/sample - loss: 0.1288\n",
      "Epoch 16/20\n",
      "29504/68250 [===========>..................] - ETA: 1s - loss: 0.1628"
     ]
    },
    {
     "data": {
      "image/png": "[encoded data removed]",
      "text/plain": [
       "<Figure size 576x432 with 2 Axes>"
      ]
     },
     "metadata": {
      "needs_background": "light"
     },
     "output_type": "display_data"
    }
   ],
   "source": [
    "model_name = \"model_{}_{}\".format(wandb.config.network_depth, wandb.config.network_width)\n",
    "\n",
    "model = SequenceDense()\n",
    "model.build(input_shape=X_train_scaled.shape)\n",
    "model.compile(optimizer=Adam(learning_rate=0.0001), loss=\"mae\")\n",
    "try:\n",
    "    model.load_weights(join(\"./save_weights\", model_name))\n",
    "except:\n",
    "    model.save_weights(join(\"./save_weights\", model_name))\n",
    "\n",
    "lr_finder = LearningRateFinder(model)\n",
    "lr_finder.find((X_train_scaled, Y_train_scaled), start_lr=1e-10, epochs=20)\n",
    "lr_finder.plot()"
   ]
  },
  {
   "cell_type": "code",
   "execution_count": 15,
   "metadata": {},
   "outputs": [
    {
     "name": "stderr",
     "output_type": "stream",
     "text": [
      "/anaconda3/envs/dev/lib/python3.7/site-packages/plotly/matplotlylib/mpltools.py:368: MatplotlibDeprecationWarning:\n",
      "\n",
      "\n",
      "The is_frame_like function was deprecated in Matplotlib 3.1 and will be removed in 3.3.\n",
      "\n"
     ]
    }
   ],
   "source": [
    "plt.plot(lr_finder.losses)\n",
    "wandb.log({\"lr_finder\": plt})"
   ]
  },
  {
   "cell_type": "code",
   "execution_count": 16,
   "metadata": {},
   "outputs": [],
   "source": [
    "lr = lr_finder.lrs[25000]\n",
    "wandb.log({\"learning_rate\": lr})\n",
    "wandb.log({\"learning_rate_index\": 25000})"
   ]
  },
  {
   "cell_type": "code",
   "execution_count": 17,
   "metadata": {
    "scrolled": true
   },
   "outputs": [
    {
     "name": "stdout",
     "output_type": "stream",
     "text": [
      "Train on 54600 samples, validate on 13650 samples\n",
      "Epoch 1/160\n",
      "54600/54600 [==============================] - 2s 36us/sample - loss: 0.1402 - val_loss: 0.1249\n",
      "Epoch 2/160\n",
      "54600/54600 [==============================] - 2s 31us/sample - loss: 0.1214 - val_loss: 0.1285\n",
      "Epoch 3/160\n",
      "54600/54600 [==============================] - 2s 30us/sample - loss: 0.1087 - val_loss: 0.0991\n",
      "Epoch 4/160\n",
      "54600/54600 [==============================] - 2s 30us/sample - loss: 0.1021 - val_loss: 0.1013\n",
      "Epoch 5/160\n",
      "54600/54600 [==============================] - 2s 30us/sample - loss: 0.0923 - val_loss: 0.0815\n",
      "Epoch 6/160\n",
      "54600/54600 [==============================] - 2s 30us/sample - loss: 0.0817 - val_loss: 0.1079\n",
      "Epoch 7/160\n",
      "54600/54600 [==============================] - 2s 30us/sample - loss: 0.0742 - val_loss: 0.0572\n",
      "Epoch 8/160\n",
      "54600/54600 [==============================] - 2s 31us/sample - loss: 0.0662 - val_loss: 0.0602\n",
      "Epoch 9/160\n",
      "54600/54600 [==============================] - 2s 31us/sample - loss: 0.0630 - val_loss: 0.0767\n",
      "Epoch 10/160\n",
      "54600/54600 [==============================] - 2s 30us/sample - loss: 0.0610 - val_loss: 0.0510\n",
      "Epoch 11/160\n",
      "54600/54600 [==============================] - 2s 29us/sample - loss: 0.0592 - val_loss: 0.0765\n",
      "Epoch 12/160\n",
      "54600/54600 [==============================] - 2s 30us/sample - loss: 0.0562 - val_loss: 0.0562\n",
      "Epoch 13/160\n",
      "54600/54600 [==============================] - 2s 30us/sample - loss: 0.0544 - val_loss: 0.0462\n",
      "Epoch 14/160\n",
      "54600/54600 [==============================] - 2s 31us/sample - loss: 0.0526 - val_loss: 0.0426\n",
      "Epoch 15/160\n",
      "54600/54600 [==============================] - 2s 30us/sample - loss: 0.0516 - val_loss: 0.0508\n",
      "Epoch 16/160\n",
      "54600/54600 [==============================] - 2s 30us/sample - loss: 0.0529 - val_loss: 0.0420\n",
      "Epoch 17/160\n",
      "54600/54600 [==============================] - 2s 30us/sample - loss: 0.0504 - val_loss: 0.0522\n",
      "Epoch 18/160\n",
      "54600/54600 [==============================] - 2s 30us/sample - loss: 0.0494 - val_loss: 0.0701\n",
      "Epoch 19/160\n",
      "54600/54600 [==============================] - 2s 30us/sample - loss: 0.0492 - val_loss: 0.0382\n",
      "Epoch 20/160\n",
      "54600/54600 [==============================] - 2s 30us/sample - loss: 0.0475 - val_loss: 0.0441\n",
      "Epoch 21/160\n",
      "54600/54600 [==============================] - 2s 32us/sample - loss: 0.0494 - val_loss: 0.0446\n",
      "Epoch 22/160\n",
      "54600/54600 [==============================] - 2s 32us/sample - loss: 0.0464 - val_loss: 0.0458\n",
      "Epoch 23/160\n",
      "54600/54600 [==============================] - 2s 31us/sample - loss: 0.0452 - val_loss: 0.0389\n",
      "Epoch 24/160\n",
      "54600/54600 [==============================] - 2s 31us/sample - loss: 0.0440 - val_loss: 0.0434\n",
      "Epoch 25/160\n",
      "54600/54600 [==============================] - 2s 31us/sample - loss: 0.0444 - val_loss: 0.0453\n",
      "Epoch 26/160\n",
      "54600/54600 [==============================] - 2s 31us/sample - loss: 0.0432 - val_loss: 0.0355\n",
      "Epoch 27/160\n",
      "54600/54600 [==============================] - 2s 32us/sample - loss: 0.0419 - val_loss: 0.0370\n",
      "Epoch 28/160\n",
      "54600/54600 [==============================] - 2s 31us/sample - loss: 0.0428 - val_loss: 0.0599\n",
      "Epoch 29/160\n",
      "54600/54600 [==============================] - 2s 32us/sample - loss: 0.0409 - val_loss: 0.0338\n",
      "Epoch 30/160\n",
      "54600/54600 [==============================] - 2s 31us/sample - loss: 0.0405 - val_loss: 0.0358\n",
      "Epoch 31/160\n",
      "54600/54600 [==============================] - 2s 31us/sample - loss: 0.0408 - val_loss: 0.0316\n",
      "Epoch 32/160\n",
      "54600/54600 [==============================] - 2s 32us/sample - loss: 0.0388 - val_loss: 0.0389\n",
      "Epoch 33/160\n",
      "54600/54600 [==============================] - 2s 31us/sample - loss: 0.0394 - val_loss: 0.0292\n",
      "Epoch 34/160\n",
      "54600/54600 [==============================] - 2s 31us/sample - loss: 0.0386 - val_loss: 0.0330\n",
      "Epoch 35/160\n",
      "54600/54600 [==============================] - 2s 31us/sample - loss: 0.0369 - val_loss: 0.0293\n",
      "Epoch 36/160\n",
      "54600/54600 [==============================] - 2s 31us/sample - loss: 0.0373 - val_loss: 0.0334\n",
      "Epoch 37/160\n",
      "54600/54600 [==============================] - 2s 31us/sample - loss: 0.0373 - val_loss: 0.0329\n",
      "Epoch 38/160\n",
      "54600/54600 [==============================] - 2s 31us/sample - loss: 0.0368 - val_loss: 0.0311\n",
      "Epoch 39/160\n",
      "54600/54600 [==============================] - 2s 31us/sample - loss: 0.0356 - val_loss: 0.0286\n",
      "Epoch 40/160\n",
      "54600/54600 [==============================] - 2s 32us/sample - loss: 0.0357 - val_loss: 0.0333\n",
      "Epoch 41/160\n",
      "54600/54600 [==============================] - 2s 31us/sample - loss: 0.0346 - val_loss: 0.0451\n",
      "Epoch 42/160\n",
      "54600/54600 [==============================] - 2s 31us/sample - loss: 0.0350 - val_loss: 0.0328\n",
      "Epoch 43/160\n",
      "54600/54600 [==============================] - 2s 32us/sample - loss: 0.0329 - val_loss: 0.0333\n",
      "Epoch 44/160\n",
      "54600/54600 [==============================] - 2s 32us/sample - loss: 0.0329 - val_loss: 0.0244\n",
      "Epoch 45/160\n",
      "54600/54600 [==============================] - 2s 32us/sample - loss: 0.0322 - val_loss: 0.0360\n",
      "Epoch 46/160\n",
      "54600/54600 [==============================] - 2s 32us/sample - loss: 0.0315 - val_loss: 0.0439\n",
      "Epoch 47/160\n",
      "54600/54600 [==============================] - 2s 33us/sample - loss: 0.0297 - val_loss: 0.0242\n",
      "Epoch 48/160\n",
      "54600/54600 [==============================] - 2s 32us/sample - loss: 0.0276 - val_loss: 0.0252\n",
      "Epoch 49/160\n",
      "54600/54600 [==============================] - 2s 31us/sample - loss: 0.0290 - val_loss: 0.0198\n",
      "Epoch 50/160\n",
      "54600/54600 [==============================] - 2s 33us/sample - loss: 0.0267 - val_loss: 0.0302\n",
      "Epoch 51/160\n",
      "54600/54600 [==============================] - 2s 32us/sample - loss: 0.0260 - val_loss: 0.0198\n",
      "Epoch 52/160\n",
      "54600/54600 [==============================] - 2s 31us/sample - loss: 0.0252 - val_loss: 0.0215\n",
      "Epoch 53/160\n",
      "54600/54600 [==============================] - 2s 31us/sample - loss: 0.0256 - val_loss: 0.0229\n",
      "Epoch 54/160\n",
      "54600/54600 [==============================] - 2s 31us/sample - loss: 0.0255 - val_loss: 0.0371\n",
      "Epoch 55/160\n",
      "54600/54600 [==============================] - 2s 31us/sample - loss: 0.0241 - val_loss: 0.0254\n",
      "Epoch 56/160\n",
      "54600/54600 [==============================] - 2s 31us/sample - loss: 0.0233 - val_loss: 0.0150\n",
      "Epoch 57/160\n",
      "54600/54600 [==============================] - 2s 31us/sample - loss: 0.0239 - val_loss: 0.0185\n",
      "Epoch 58/160\n",
      "54600/54600 [==============================] - 2s 31us/sample - loss: 0.0229 - val_loss: 0.0236\n",
      "Epoch 59/160\n",
      "54600/54600 [==============================] - 2s 31us/sample - loss: 0.0237 - val_loss: 0.0160\n",
      "Epoch 60/160\n",
      "54600/54600 [==============================] - 2s 31us/sample - loss: 0.0221 - val_loss: 0.0283\n",
      "Epoch 61/160\n",
      "54600/54600 [==============================] - 2s 31us/sample - loss: 0.0240 - val_loss: 0.0180\n",
      "Epoch 62/160\n",
      "54600/54600 [==============================] - 2s 32us/sample - loss: 0.0225 - val_loss: 0.0290\n",
      "Epoch 63/160\n",
      "54600/54600 [==============================] - 2s 32us/sample - loss: 0.0249 - val_loss: 0.0192\n",
      "Epoch 64/160\n",
      "54600/54600 [==============================] - 2s 32us/sample - loss: 0.0219 - val_loss: 0.0126\n",
      "Epoch 65/160\n",
      "54600/54600 [==============================] - 2s 31us/sample - loss: 0.0227 - val_loss: 0.0152\n",
      "Epoch 66/160\n",
      "54600/54600 [==============================] - 2s 31us/sample - loss: 0.0218 - val_loss: 0.0163\n",
      "Epoch 67/160\n",
      "54600/54600 [==============================] - 2s 32us/sample - loss: 0.0230 - val_loss: 0.0191\n",
      "Epoch 68/160\n",
      "54600/54600 [==============================] - 2s 32us/sample - loss: 0.0221 - val_loss: 0.0196\n",
      "Epoch 69/160\n",
      "54600/54600 [==============================] - 2s 32us/sample - loss: 0.0216 - val_loss: 0.0140\n",
      "Epoch 70/160\n",
      "54600/54600 [==============================] - 2s 31us/sample - loss: 0.0220 - val_loss: 0.0185\n",
      "Epoch 71/160\n",
      "54600/54600 [==============================] - 2s 31us/sample - loss: 0.0224 - val_loss: 0.0335\n",
      "Epoch 72/160\n",
      "54600/54600 [==============================] - 2s 31us/sample - loss: 0.0210 - val_loss: 0.0146\n",
      "Epoch 73/160\n",
      "54600/54600 [==============================] - 2s 31us/sample - loss: 0.0213 - val_loss: 0.0231\n",
      "Epoch 74/160\n",
      "54600/54600 [==============================] - 2s 31us/sample - loss: 0.0225 - val_loss: 0.0213\n",
      "Epoch 75/160\n",
      "54600/54600 [==============================] - 2s 31us/sample - loss: 0.0220 - val_loss: 0.0141\n",
      "Epoch 76/160\n",
      "54600/54600 [==============================] - 2s 31us/sample - loss: 0.0215 - val_loss: 0.0166\n",
      "Epoch 77/160\n",
      "54600/54600 [==============================] - 2s 30us/sample - loss: 0.0211 - val_loss: 0.0189\n",
      "Epoch 78/160\n",
      "54600/54600 [==============================] - 2s 30us/sample - loss: 0.0209 - val_loss: 0.0202\n",
      "Epoch 79/160\n",
      "54600/54600 [==============================] - 2s 30us/sample - loss: 0.0209 - val_loss: 0.0189\n",
      "Epoch 80/160\n",
      "54600/54600 [==============================] - 2s 31us/sample - loss: 0.0204 - val_loss: 0.0394\n",
      "Epoch 81/160\n",
      "54600/54600 [==============================] - 2s 30us/sample - loss: 0.0201 - val_loss: 0.0217\n",
      "Epoch 82/160\n",
      "54600/54600 [==============================] - 2s 31us/sample - loss: 0.0208 - val_loss: 0.0170\n",
      "Epoch 83/160\n",
      "54600/54600 [==============================] - 2s 30us/sample - loss: 0.0204 - val_loss: 0.0332\n",
      "Epoch 84/160\n",
      "54600/54600 [==============================] - 2s 30us/sample - loss: 0.0199 - val_loss: 0.0122\n",
      "Epoch 85/160\n",
      "54600/54600 [==============================] - 2s 31us/sample - loss: 0.0203 - val_loss: 0.0370\n",
      "Epoch 86/160\n",
      "54600/54600 [==============================] - 2s 30us/sample - loss: 0.0203 - val_loss: 0.0157\n",
      "Epoch 87/160\n",
      "54600/54600 [==============================] - 2s 30us/sample - loss: 0.0202 - val_loss: 0.0159\n",
      "Epoch 88/160\n",
      "54600/54600 [==============================] - 2s 30us/sample - loss: 0.0202 - val_loss: 0.0140\n",
      "Epoch 89/160\n",
      "54600/54600 [==============================] - 2s 30us/sample - loss: 0.0202 - val_loss: 0.0187\n",
      "Epoch 90/160\n",
      "54600/54600 [==============================] - 2s 30us/sample - loss: 0.0208 - val_loss: 0.0211\n",
      "Epoch 91/160\n",
      "54600/54600 [==============================] - 2s 31us/sample - loss: 0.0183 - val_loss: 0.0373\n",
      "Epoch 92/160\n",
      "54600/54600 [==============================] - 2s 31us/sample - loss: 0.0204 - val_loss: 0.0166\n",
      "Epoch 93/160\n",
      "54600/54600 [==============================] - 2s 30us/sample - loss: 0.0208 - val_loss: 0.0378\n",
      "Epoch 94/160\n",
      "54600/54600 [==============================] - 2s 30us/sample - loss: 0.0191 - val_loss: 0.0147\n",
      "Epoch 95/160\n",
      "54600/54600 [==============================] - 2s 30us/sample - loss: 0.0194 - val_loss: 0.0208\n",
      "Epoch 96/160\n",
      "54600/54600 [==============================] - 2s 30us/sample - loss: 0.0200 - val_loss: 0.0305\n",
      "Epoch 97/160\n",
      "54600/54600 [==============================] - 2s 30us/sample - loss: 0.0199 - val_loss: 0.0231\n",
      "Epoch 98/160\n",
      "54600/54600 [==============================] - 2s 30us/sample - loss: 0.0193 - val_loss: 0.0136\n",
      "Epoch 99/160\n",
      "54600/54600 [==============================] - 2s 31us/sample - loss: 0.0196 - val_loss: 0.0226\n",
      "Epoch 100/160\n",
      "54600/54600 [==============================] - 2s 31us/sample - loss: 0.0197 - val_loss: 0.0218\n",
      "Epoch 101/160\n",
      "54600/54600 [==============================] - 2s 31us/sample - loss: 0.0186 - val_loss: 0.0143\n",
      "Epoch 102/160\n",
      "54600/54600 [==============================] - 2s 31us/sample - loss: 0.0189 - val_loss: 0.0204\n",
      "Epoch 103/160\n",
      "54600/54600 [==============================] - 2s 32us/sample - loss: 0.0191 - val_loss: 0.0158\n",
      "Epoch 104/160\n",
      "54600/54600 [==============================] - 2s 30us/sample - loss: 0.0177 - val_loss: 0.0160\n",
      "Epoch 105/160\n",
      "54600/54600 [==============================] - 2s 30us/sample - loss: 0.0198 - val_loss: 0.0145\n",
      "Epoch 106/160\n",
      "54600/54600 [==============================] - 2s 31us/sample - loss: 0.0187 - val_loss: 0.0300\n",
      "Epoch 107/160\n",
      "54600/54600 [==============================] - 2s 31us/sample - loss: 0.0201 - val_loss: 0.0254\n",
      "Epoch 108/160\n",
      "54600/54600 [==============================] - 2s 30us/sample - loss: 0.0189 - val_loss: 0.0125\n",
      "Epoch 109/160\n",
      "54600/54600 [==============================] - 2s 30us/sample - loss: 0.0184 - val_loss: 0.0105\n",
      "Epoch 110/160\n",
      "54600/54600 [==============================] - 2s 30us/sample - loss: 0.0186 - val_loss: 0.0171\n",
      "Epoch 111/160\n",
      "54600/54600 [==============================] - 2s 30us/sample - loss: 0.0184 - val_loss: 0.0126\n",
      "Epoch 112/160\n",
      "54600/54600 [==============================] - 2s 30us/sample - loss: 0.0189 - val_loss: 0.0367\n",
      "Epoch 113/160\n",
      "54600/54600 [==============================] - 2s 30us/sample - loss: 0.0192 - val_loss: 0.0098\n",
      "Epoch 114/160\n",
      "54600/54600 [==============================] - 2s 31us/sample - loss: 0.0175 - val_loss: 0.0140\n",
      "Epoch 115/160\n",
      "54600/54600 [==============================] - 2s 31us/sample - loss: 0.0181 - val_loss: 0.0196\n",
      "Epoch 116/160\n",
      "54600/54600 [==============================] - 2s 30us/sample - loss: 0.0184 - val_loss: 0.0286\n",
      "Epoch 117/160\n",
      "54600/54600 [==============================] - 2s 30us/sample - loss: 0.0180 - val_loss: 0.0361\n",
      "Epoch 118/160\n",
      "54600/54600 [==============================] - 2s 30us/sample - loss: 0.0184 - val_loss: 0.0163\n",
      "Epoch 119/160\n",
      "54600/54600 [==============================] - 2s 30us/sample - loss: 0.0183 - val_loss: 0.0208\n",
      "Epoch 120/160\n",
      "54600/54600 [==============================] - 2s 32us/sample - loss: 0.0179 - val_loss: 0.0218\n",
      "Epoch 121/160\n",
      "54600/54600 [==============================] - 2s 32us/sample - loss: 0.0185 - val_loss: 0.0166\n",
      "Epoch 122/160\n",
      "54600/54600 [==============================] - 2s 30us/sample - loss: 0.0181 - val_loss: 0.0312\n",
      "Epoch 123/160\n",
      "54600/54600 [==============================] - 2s 30us/sample - loss: 0.0189 - val_loss: 0.0098\n",
      "Epoch 124/160\n",
      "54600/54600 [==============================] - 2s 30us/sample - loss: 0.0174 - val_loss: 0.0223\n",
      "Epoch 125/160\n",
      "54600/54600 [==============================] - 2s 30us/sample - loss: 0.0184 - val_loss: 0.0282\n",
      "Epoch 126/160\n",
      "54600/54600 [==============================] - 2s 30us/sample - loss: 0.0187 - val_loss: 0.0241\n",
      "Epoch 127/160\n",
      "54600/54600 [==============================] - 2s 30us/sample - loss: 0.0174 - val_loss: 0.0188\n",
      "Epoch 128/160\n",
      "54600/54600 [==============================] - 2s 30us/sample - loss: 0.0176 - val_loss: 0.0190\n",
      "Epoch 129/160\n",
      "54600/54600 [==============================] - 2s 30us/sample - loss: 0.0177 - val_loss: 0.0314\n",
      "Epoch 130/160\n",
      "54600/54600 [==============================] - 2s 31us/sample - loss: 0.0178 - val_loss: 0.0292\n",
      "Epoch 131/160\n",
      "54600/54600 [==============================] - 2s 30us/sample - loss: 0.0176 - val_loss: 0.0140\n",
      "Epoch 132/160\n",
      "54600/54600 [==============================] - 2s 31us/sample - loss: 0.0181 - val_loss: 0.0216\n",
      "Epoch 133/160\n",
      "54600/54600 [==============================] - 2s 30us/sample - loss: 0.0175 - val_loss: 0.0121\n",
      "Epoch 134/160\n",
      "54600/54600 [==============================] - 2s 30us/sample - loss: 0.0190 - val_loss: 0.0252\n",
      "Epoch 135/160\n",
      "54600/54600 [==============================] - 2s 30us/sample - loss: 0.0170 - val_loss: 0.0213\n",
      "Epoch 136/160\n",
      "54600/54600 [==============================] - 2s 31us/sample - loss: 0.0163 - val_loss: 0.0145\n",
      "Epoch 137/160\n",
      "54600/54600 [==============================] - 2s 31us/sample - loss: 0.0173 - val_loss: 0.0456\n",
      "Epoch 138/160\n",
      "54600/54600 [==============================] - 2s 33us/sample - loss: 0.0172 - val_loss: 0.0237\n",
      "Epoch 139/160\n",
      "54600/54600 [==============================] - 2s 33us/sample - loss: 0.0174 - val_loss: 0.0185\n",
      "Epoch 140/160\n",
      "54600/54600 [==============================] - 2s 32us/sample - loss: 0.0168 - val_loss: 0.0198\n",
      "Epoch 141/160\n",
      "54600/54600 [==============================] - 2s 31us/sample - loss: 0.0182 - val_loss: 0.0141\n",
      "Epoch 142/160\n",
      "54600/54600 [==============================] - 2s 30us/sample - loss: 0.0173 - val_loss: 0.0181\n",
      "Epoch 143/160\n",
      "54600/54600 [==============================] - 2s 30us/sample - loss: 0.0176 - val_loss: 0.0123\n",
      "Epoch 144/160\n",
      "54600/54600 [==============================] - 2s 30us/sample - loss: 0.0182 - val_loss: 0.0129\n",
      "Epoch 145/160\n",
      "54600/54600 [==============================] - 2s 30us/sample - loss: 0.0180 - val_loss: 0.0378\n",
      "Epoch 146/160\n",
      "54600/54600 [==============================] - 2s 30us/sample - loss: 0.0172 - val_loss: 0.0139\n",
      "Epoch 147/160\n",
      "54600/54600 [==============================] - 2s 30us/sample - loss: 0.0176 - val_loss: 0.0242\n",
      "Epoch 148/160\n",
      "54600/54600 [==============================] - 2s 30us/sample - loss: 0.0165 - val_loss: 0.0149\n",
      "Epoch 149/160\n",
      "54600/54600 [==============================] - 2s 30us/sample - loss: 0.0175 - val_loss: 0.0300\n",
      "Epoch 150/160\n",
      "54600/54600 [==============================] - 2s 30us/sample - loss: 0.0168 - val_loss: 0.0214\n",
      "Epoch 151/160\n",
      "54600/54600 [==============================] - 2s 30us/sample - loss: 0.0175 - val_loss: 0.0181\n",
      "Epoch 152/160\n",
      "54600/54600 [==============================] - 2s 30us/sample - loss: 0.0157 - val_loss: 0.0199\n",
      "Epoch 153/160\n",
      "54600/54600 [==============================] - 2s 30us/sample - loss: 0.0167 - val_loss: 0.0162\n",
      "Epoch 154/160\n",
      "54600/54600 [==============================] - 2s 30us/sample - loss: 0.0166 - val_loss: 0.0189\n",
      "Epoch 155/160\n",
      "54600/54600 [==============================] - 2s 30us/sample - loss: 0.0170 - val_loss: 0.0166\n",
      "Epoch 156/160\n",
      "54600/54600 [==============================] - 2s 30us/sample - loss: 0.0171 - val_loss: 0.0127\n",
      "Epoch 157/160\n",
      "54600/54600 [==============================] - 2s 31us/sample - loss: 0.0168 - val_loss: 0.0153\n",
      "Epoch 158/160\n",
      "54600/54600 [==============================] - 2s 30us/sample - loss: 0.0168 - val_loss: 0.0187\n",
      "Epoch 159/160\n",
      "54600/54600 [==============================] - 2s 30us/sample - loss: 0.0169 - val_loss: 0.0107\n",
      "Epoch 160/160\n",
      "54600/54600 [==============================] - 2s 30us/sample - loss: 0.0158 - val_loss: 0.0148\n"
     ]
    },
    {
     "data": {
      "image/png": "[encoded data removed]",
      "text/plain": [
       "<Figure size 432x288 with 2 Axes>"
      ]
     },
     "metadata": {
      "needs_background": "light"
     },
     "output_type": "display_data"
    }
   ],
   "source": [
    "def history_plot(history):\n",
    "    loss = history.history[\"loss\"]\n",
    "    val_loss = history.history[\"val_loss\"]\n",
    "    plt.subplot(2, 1, 1)\n",
    "    plt.title(\"loss\")\n",
    "    plt.plot(loss)\n",
    "    plt.subplot(2, 1, 2)\n",
    "    plt.title(\"val_loss\")\n",
    "    plt.plot(val_loss)\n",
    "\n",
    "model = SequenceDense()\n",
    "model.build(input_shape=X_train_scaled.shape)\n",
    "model.compile(optimizer=Adam(learning_rate=lr), loss=\"mae\")\n",
    "model.load_weights(join(\"./save_weights\", model_name))\n",
    "history = model.fit(X_train_scaled, Y_train_scaled, \n",
    "                    epochs=wandb.config.epochs, \n",
    "                    batch_size=wandb.config.batch_size, \n",
    "                    validation_split=wandb.config.validation_split, \n",
    "                    verbose=1)\n",
    "model.save_weights(join(WEIGHTS_DIR, \"model_trained\", model_name))\n",
    "\n",
    "history_plot(history)"
   ]
  },
  {
   "cell_type": "code",
   "execution_count": 18,
   "metadata": {},
   "outputs": [
    {
     "name": "stderr",
     "output_type": "stream",
     "text": [
      "/anaconda3/envs/dev/lib/python3.7/site-packages/plotly/matplotlylib/mpltools.py:368: MatplotlibDeprecationWarning:\n",
      "\n",
      "\n",
      "The is_frame_like function was deprecated in Matplotlib 3.1 and will be removed in 3.3.\n",
      "\n"
     ]
    }
   ],
   "source": [
    "loss = history.history[\"loss\"]\n",
    "plt.title(\"train_loss\")\n",
    "plt.plot(loss)\n",
    "wandb.log({\"train_loss\": plt})\n",
    "\n",
    "val_loss = history.history[\"val_loss\"]\n",
    "plt.title(\"val_loss\")\n",
    "plt.plot(val_loss)\n",
    "wandb.log({\"val_loss\": plt})\n",
    "\n",
    "test_loss = model.evaluate(X_test_scaled, Y_test_scaled, verbose=0)\n",
    "wandb.log({\"test_loss\": test_loss})"
   ]
  },
  {
   "cell_type": "code",
   "execution_count": 19,
   "metadata": {},
   "outputs": [
    {
     "name": "stdout",
     "output_type": "stream",
     "text": [
      "Average loss: 0.014697840437293053\n"
     ]
    },
    {
     "data": {
      "image/png": "[encoded data removed]",
      "text/plain": [
       "<Figure size 432x288 with 1 Axes>"
      ]
     },
     "metadata": {
      "needs_background": "light"
     },
     "output_type": "display_data"
    }
   ],
   "source": [
    "pred = model.predict(X_train_scaled)\n",
    "loss = MAE(Y_train_scaled, pred)\n",
    "plt.scatter(Y_train_scaled, loss)\n",
    "wandb.log({\"loss_dist\": wandb.Image(plt, caption=\"loss_dist\")})\n",
    "print(\"Average loss: {}\".format(np.mean(loss.numpy())))"
   ]
  },
  {
   "cell_type": "code",
   "execution_count": null,
   "metadata": {},
   "outputs": [],
   "source": []
  }
 ],
 "metadata": {
  "kernelspec": {
   "display_name": "Python 3",
   "language": "python",
   "name": "python3"
  },
  "language_info": {
   "codemirror_mode": {
    "name": "ipython",
    "version": 3
   },
   "file_extension": ".py",
   "mimetype": "text/x-python",
   "name": "python",
   "nbconvert_exporter": "python",
   "pygments_lexer": "ipython3",
   "version": "3.7.4"
  }
 },
 "nbformat": 4,
 "nbformat_minor": 4
}
